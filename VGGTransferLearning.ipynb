{
  "cells": [
    {
      "cell_type": "markdown",
      "metadata": {
        "id": "xsBvAzba_7zO"
      },
      "source": [
        "# Max Condidence Ensemble Learning on VGG16(modified) Transfer Learning"
      ]
    },
    {
      "cell_type": "code",
      "source": [
        "!rm -r sample_data"
      ],
      "metadata": {
        "id": "mERq-a6G4bX6"
      },
      "execution_count": null,
      "outputs": []
    },
    {
      "cell_type": "code",
      "source": [
        "from google.colab import drive\n",
        "drive.mount('/content/drive')"
      ],
      "metadata": {
        "colab": {
          "base_uri": "https://localhost:8080/"
        },
        "id": "QpPeLefYSMKf",
        "outputId": "64be9691-7b25-4514-8396-2a890e863120"
      },
      "execution_count": null,
      "outputs": [
        {
          "output_type": "stream",
          "name": "stdout",
          "text": [
            "Mounted at /content/drive\n"
          ]
        }
      ]
    },
    {
      "cell_type": "code",
      "source": [
        "!unzip -q /content/drive/MyDrive/Yoga82.zip -d /content/"
      ],
      "metadata": {
        "id": "-uKfl9fdQtTM"
      },
      "execution_count": null,
      "outputs": []
    },
    {
      "cell_type": "code",
      "source": [
        "from google.colab import drive\n",
        "drive.flush_and_unmount()"
      ],
      "metadata": {
        "id": "b5dAGAJx4eL6"
      },
      "execution_count": null,
      "outputs": []
    },
    {
      "cell_type": "code",
      "execution_count": null,
      "metadata": {
        "id": "3ZMOiLQp_7zU"
      },
      "outputs": [],
      "source": [
        "# For Modelling\n",
        "import tensorflow as tf\n",
        "from keras.applications import VGG16\n",
        "from keras.preprocessing.image import ImageDataGenerator\n",
        "from keras.utils import load_img, img_to_array\n",
        "from keras.layers import Dense, Flatten, Dropout\n",
        "from keras.models import Model\n",
        "\n",
        "# For data segmentation\n",
        "from sklearn.cluster import KMeans\n",
        "import numpy as np\n",
        "import os, statistics, cv2, shutil, random\n",
        "from imblearn.over_sampling import SMOTE"
      ]
    },
    {
      "cell_type": "markdown",
      "metadata": {
        "id": "QKblVNuD_7zW"
      },
      "source": [
        "Frequency map class name to frequency"
      ]
    },
    {
      "cell_type": "code",
      "execution_count": null,
      "metadata": {
        "id": "wr9HMrui_7zX",
        "outputId": "bbbb9664-7b8b-4bed-cdd9-ed3f28993bad",
        "colab": {
          "base_uri": "https://localhost:8080/"
        }
      },
      "outputs": [
        {
          "output_type": "stream",
          "name": "stdout",
          "text": [
            "Total: 19388 amongst 82 classes\n",
            "Number of files in each subfolder: [80, 260, 133, 71, 309, 312, 313, 240, 179, 153, 312, 159, 278, 288, 54, 83, 155, 318, 224, 305, 260, 99, 680, 397, 349, 296, 73, 146, 800, 233, 414, 316, 127, 396, 333, 185, 39, 174, 86, 132, 291, 150, 212, 230, 305, 188, 337, 272, 151, 314, 254, 312, 132, 314, 394, 266, 184, 65, 82, 143, 226, 47, 225, 232, 534, 132, 184, 196, 178, 273, 323, 232, 71, 528, 281, 188, 162, 267, 180, 189, 84, 299]\n",
            "Class 0: 0.41%\n",
            "Class 1: 1.34%\n",
            "Class 2: 0.69%\n",
            "Class 3: 0.37%\n",
            "Class 4: 1.59%\n",
            "Class 5: 1.61%\n",
            "Class 6: 1.61%\n",
            "Class 7: 1.24%\n",
            "Class 8: 0.92%\n",
            "Class 9: 0.79%\n",
            "Class 10: 1.61%\n",
            "Class 11: 0.82%\n",
            "Class 12: 1.43%\n",
            "Class 13: 1.49%\n",
            "Class 14: 0.28%\n",
            "Class 15: 0.43%\n",
            "Class 16: 0.80%\n",
            "Class 17: 1.64%\n",
            "Class 18: 1.16%\n",
            "Class 19: 1.57%\n",
            "Class 20: 1.34%\n",
            "Class 21: 0.51%\n",
            "Class 22: 3.51%\n",
            "Class 23: 2.05%\n",
            "Class 24: 1.80%\n",
            "Class 25: 1.53%\n",
            "Class 26: 0.38%\n",
            "Class 27: 0.75%\n",
            "Class 28: 4.13%\n",
            "Class 29: 1.20%\n",
            "Class 30: 2.14%\n",
            "Class 31: 1.63%\n",
            "Class 32: 0.66%\n",
            "Class 33: 2.04%\n",
            "Class 34: 1.72%\n",
            "Class 35: 0.95%\n",
            "Class 36: 0.20%\n",
            "Class 37: 0.90%\n",
            "Class 38: 0.44%\n",
            "Class 39: 0.68%\n",
            "Class 40: 1.50%\n",
            "Class 41: 0.77%\n",
            "Class 42: 1.09%\n",
            "Class 43: 1.19%\n",
            "Class 44: 1.57%\n",
            "Class 45: 0.97%\n",
            "Class 46: 1.74%\n",
            "Class 47: 1.40%\n",
            "Class 48: 0.78%\n",
            "Class 49: 1.62%\n",
            "Class 50: 1.31%\n",
            "Class 51: 1.61%\n",
            "Class 52: 0.68%\n",
            "Class 53: 1.62%\n",
            "Class 54: 2.03%\n",
            "Class 55: 1.37%\n",
            "Class 56: 0.95%\n",
            "Class 57: 0.34%\n",
            "Class 58: 0.42%\n",
            "Class 59: 0.74%\n",
            "Class 60: 1.17%\n",
            "Class 61: 0.24%\n",
            "Class 62: 1.16%\n",
            "Class 63: 1.20%\n",
            "Class 64: 2.75%\n",
            "Class 65: 0.68%\n",
            "Class 66: 0.95%\n",
            "Class 67: 1.01%\n",
            "Class 68: 0.92%\n",
            "Class 69: 1.41%\n",
            "Class 70: 1.67%\n",
            "Class 71: 1.20%\n",
            "Class 72: 0.37%\n",
            "Class 73: 2.72%\n",
            "Class 74: 1.45%\n",
            "Class 75: 0.97%\n",
            "Class 76: 0.84%\n",
            "Class 77: 1.38%\n",
            "Class 78: 0.93%\n",
            "Class 79: 0.97%\n",
            "Class 80: 0.43%\n",
            "Class 81: 1.54%\n",
            "The classes are not balanced.\n"
          ]
        }
      ],
      "source": [
        "def count_files(path) -> int:\n",
        "    count = 0\n",
        "    for root, dirs, files in os.walk(path):\n",
        "        count += len(files)\n",
        "    return count\n",
        "\n",
        "def is_balanced(counts) -> bool:\n",
        "    mean = sum(counts) / len(counts)\n",
        "    return all(mean * 0.8 <= count <= mean * 1.2 for count in counts)\n",
        "\n",
        "freq_map = dict()\n",
        "parent_folder = '/content/Yoga82'\n",
        "\n",
        "for root, dirs, files in os.walk(parent_folder):\n",
        "    for folder in dirs:\n",
        "        loc = os.path.join(root, folder)\n",
        "        num = len(os.listdir(loc))\n",
        "        freq_map[folder] = num\n",
        "\n",
        "freq_map_array = np.array(list(freq_map.values())).reshape(-1, 1)\n",
        "subfolder_counts = [count_files(os.path.join(parent_folder, subfolder)) for subfolder in os.listdir(parent_folder) if os.path.isdir(os.path.join(parent_folder, subfolder))]\n",
        "total_count = sum(subfolder_counts)\n",
        "\n",
        "print(f'Total: {total_count} amongst {len(subfolder_counts)} classes')\n",
        "print(\"Number of files in each subfolder:\", subfolder_counts)\n",
        "\n",
        "for i, count in enumerate(subfolder_counts):\n",
        "    print(\"Class {}: {:.2f}%\".format(i, 100 * count / total_count))\n",
        "\n",
        "print(f'The classes are {\"\" if is_balanced(subfolder_counts) else \"not\"} balanced.')\n",
        "num_images = subfolder_counts"
      ]
    },
    {
      "cell_type": "markdown",
      "metadata": {
        "id": "GDOtS3py_7zZ"
      },
      "source": [
        "Apply Kmeans clustering to minimize overall variance"
      ]
    },
    {
      "cell_type": "code",
      "execution_count": null,
      "metadata": {
        "id": "zAwqZGNp_7zZ"
      },
      "outputs": [],
      "source": [
        "kmeans = KMeans(n_clusters=3, random_state=0).fit(freq_map_array)\n",
        "cluster_labels = kmeans.labels_"
      ]
    },
    {
      "cell_type": "code",
      "execution_count": null,
      "metadata": {
        "id": "Nr9S2KTS_7za",
        "colab": {
          "base_uri": "https://localhost:8080/"
        },
        "outputId": "962c77b8-492f-48cf-9f8c-4351b49be097"
      },
      "outputs": [
        {
          "output_type": "stream",
          "name": "stdout",
          "text": [
            "Percentage variation from the centroid for Cluster 1:  16.80284527767622 (40)\n",
            "Percentage variation from the centroid for Cluster 2:  37.28837032013109 (38)\n",
            "Percentage variation from the centroid for Cluster 3:  20.496440337929727 (4)\n",
            "********************************************************************************\n",
            "[39, 47, 54, 65, 71, 71, 73, 80, 82, 83, 84, 86, 99, 127, 132, 132, 132, 133, 143, 146, 150, 151, 153, 155, 159, 162, 174, 178, 179, 180, 184, 184, 185, 188, 188, 189, 196, 212, 224, 225, 226, 230, 232, 232, 233, 240, 254, 260, 260, 266, 267, 272, 273, 278, 281, 288, 291, 296, 299, 305, 305, 309, 312, 312, 312, 313, 314, 314, 316, 318, 323, 333, 337, 349, 394, 396, 397, 414, 528, 534, 680, 800] = 19388\n"
          ]
        }
      ],
      "source": [
        "# divide the frequency map into 4 dictionaries based on cluster labels\n",
        "cluster_dict_1 = dict([(k, v) for k, v in freq_map.items() if cluster_labels[list(freq_map.keys()).index(k)] == 0])\n",
        "cluster_dict_2 = dict([(k, v) for k, v in freq_map.items() if cluster_labels[list(freq_map.keys()).index(k)] == 1])\n",
        "cluster_dict_3 = dict([(k, v) for k, v in freq_map.items() if cluster_labels[list(freq_map.keys()).index(k)] == 2])\n",
        "\n",
        "# get the standard deviation of each cluster\n",
        "cluster_1_std = statistics.stdev(list(cluster_dict_1.values()))\n",
        "cluster_2_std = statistics.stdev(list(cluster_dict_2.values()))\n",
        "cluster_3_std = statistics.stdev(list(cluster_dict_3.values()))\n",
        "\n",
        "# calculate the average of each cluster\n",
        "cluster_1_avg = sum(list(cluster_dict_1.values())) / len(list(cluster_dict_1.values()))\n",
        "cluster_2_avg = sum(list(cluster_dict_2.values())) / len(list(cluster_dict_2.values()))\n",
        "cluster_3_avg = sum(list(cluster_dict_3.values())) / len(list(cluster_dict_3.values()))\n",
        "\n",
        "# calculate the percentage variation from the centroid for each cluster\n",
        "cluster_1_percent_var = (cluster_1_std / cluster_1_avg) * 100\n",
        "cluster_2_percent_var = (cluster_2_std / cluster_2_avg) * 100\n",
        "cluster_3_percent_var = (cluster_3_std / cluster_3_avg) * 100\n",
        "\n",
        "# print the percentage variation from the centroid for each cluster\n",
        "print(\"Percentage variation from the centroid for Cluster 1: \", cluster_1_percent_var, f'({len(cluster_dict_1)})')\n",
        "print(\"Percentage variation from the centroid for Cluster 2: \", cluster_2_percent_var, f'({len(cluster_dict_2)})')\n",
        "print(\"Percentage variation from the centroid for Cluster 3: \", cluster_3_percent_var, f'({len(cluster_dict_3)})')\n",
        "\n",
        "num_images.sort()\n",
        "print('*' * 80)\n",
        "print(f'{num_images} = {sum(num_images)}')"
      ]
    },
    {
      "cell_type": "markdown",
      "metadata": {
        "id": "UzkUszeQ_7zb"
      },
      "source": [
        "SMOTE"
      ]
    },
    {
      "cell_type": "markdown",
      "metadata": {
        "id": "gxSVHwgZ_7zb"
      },
      "source": [
        "## Generate Folders from dict"
      ]
    },
    {
      "cell_type": "code",
      "execution_count": null,
      "metadata": {
        "id": "9uO__i41_7zb"
      },
      "outputs": [],
      "source": [
        "def get_folder_dict(root_folder):\n",
        "    folder_dict = {}\n",
        "    for root, dirs, files in os.walk(root_folder):\n",
        "        for dir in dirs:\n",
        "            folder_path = os.path.join(root, dir)\n",
        "            folder_dict[dir] = os.path.abspath(folder_path)\n",
        "    return folder_dict\n",
        "\n",
        "subfolder_dict = get_folder_dict(parent_folder)\n",
        "image_data = []"
      ]
    },
    {
      "cell_type": "code",
      "execution_count": null,
      "metadata": {
        "id": "69n3pR6k_7zc"
      },
      "outputs": [],
      "source": [
        "# for class_label, subfolder_path in subfolder_dict.items():\n",
        "#     for image_file in os.listdir(subfolder_path):\n",
        "#         image = cv2.imread(os.path.join(subfolder_path, image_file))\n",
        "#         image_data.append((image, class_label))\n",
        "\n",
        "# image_data = np.array(image_data)\n",
        "\n",
        "# images = image_data[:, 0]\n",
        "# labels = image_data[:, 1]\n",
        "\n",
        "# smote = SMOTE(sampling_strategy='minority', k_neighbors=5)\n",
        "# images_resampled, labels_resampled = smote.fit_resample(images, labels)"
      ]
    },
    {
      "cell_type": "markdown",
      "metadata": {
        "id": "HJikBG-Q_7zc"
      },
      "source": [
        "Transformation"
      ]
    },
    {
      "cell_type": "code",
      "source": [
        "input_folder = '/content/Yoga82'\n",
        "output_folder = '/content/Yoga82Mod'\n",
        "\n",
        "target_num = 800\n",
        "\n",
        "datagen = ImageDataGenerator(\n",
        "    rotation_range=20,\n",
        "    width_shift_range=0.1,\n",
        "    height_shift_range=0.1,\n",
        "    horizontal_flip=True,\n",
        "    vertical_flip=False,\n",
        "    fill_mode='nearest')\n",
        "\n",
        "for subfolder in os.listdir(input_folder):\n",
        "    output_subfolder = os.path.join(output_folder, subfolder)\n",
        "    if not os.path.exists(output_subfolder):\n",
        "        os.makedirs(output_subfolder)\n",
        "        \n",
        "    images = os.listdir(os.path.join(input_folder, subfolder))\n",
        "    \n",
        "    num_images = target_num - len(images)\n",
        "    \n",
        "    if num_images > 0:\n",
        "        for i in range(num_images):\n",
        "            image_path = os.path.join(input_folder, subfolder, random.choice(images))\n",
        "            \n",
        "            img = load_img(image_path)\n",
        "            x = img_to_array(img)\n",
        "            x = x.reshape((1,) + x.shape)\n",
        "            datagen.fit(x)\n",
        "            for batch in datagen.flow(x, batch_size=1):\n",
        "                output_path = os.path.join(output_subfolder, f'augmented_{i}.jpg')\n",
        "                img = array_to_img(batch[0])\n",
        "                img.save(output_path)\n",
        "                break\n",
        "                \n",
        "train_folder = os.path.join(output_folder, 'train')\n",
        "test_folder = os.path.join(output_folder, 'test')\n",
        "if not os.path.exists(train_folder):\n",
        "    os.makedirs(train_folder)\n",
        "if not os.path.exists(test_folder):\n",
        "    os.makedirs(test_folder)\n",
        "\n",
        "for subfolder in os.listdir(output_folder):\n",
        "    if subfolder in ['train', 'test']:\n",
        "        continue\n",
        "    \n",
        "    images = os.listdir(os.path.join(output_folder, subfolder))\n",
        "    \n",
        "    random.shuffle(images)\n",
        "    train_images = images[:int(0.8*len(images))]\n",
        "    test_images = images[int(0.8*len(images)):]\n",
        "\n",
        "    for image in train_images:\n",
        "        src_path = os.path.join(output_folder, subfolder, image)\n",
        "        dst_path = os.path.join(train_folder, subfolder, image)\n",
        "        shutil.copyfile(src_path, dst_path)\n",
        "    for image in test_images:\n",
        "        src_path = os.path.join(output_folder, subfolder, image)\n",
        "        dst_path = os.path.join(test_folder, subfolder, image)\n",
        "        shutil.copyfile(src_path, dst_path)\n"
      ],
      "metadata": {
        "colab": {
          "base_uri": "https://localhost:8080/",
          "height": 235
        },
        "id": "FUn_QUFAZS_o",
        "outputId": "00f5787a-4502-4cb1-b4de-c90313cffa6d"
      },
      "execution_count": null,
      "outputs": [
        {
          "output_type": "error",
          "ename": "NameError",
          "evalue": "ignored",
          "traceback": [
            "\u001b[0;31m---------------------------------------------------------------------------\u001b[0m",
            "\u001b[0;31mNameError\u001b[0m                                 Traceback (most recent call last)",
            "\u001b[0;32m<ipython-input-55-e899bf863f97>\u001b[0m in \u001b[0;36m<module>\u001b[0;34m\u001b[0m\n\u001b[1;32m     31\u001b[0m             \u001b[0;32mfor\u001b[0m \u001b[0mbatch\u001b[0m \u001b[0;32min\u001b[0m \u001b[0mdatagen\u001b[0m\u001b[0;34m.\u001b[0m\u001b[0mflow\u001b[0m\u001b[0;34m(\u001b[0m\u001b[0mx\u001b[0m\u001b[0;34m,\u001b[0m \u001b[0mbatch_size\u001b[0m\u001b[0;34m=\u001b[0m\u001b[0;36m1\u001b[0m\u001b[0;34m)\u001b[0m\u001b[0;34m:\u001b[0m\u001b[0;34m\u001b[0m\u001b[0;34m\u001b[0m\u001b[0m\n\u001b[1;32m     32\u001b[0m                 \u001b[0moutput_path\u001b[0m \u001b[0;34m=\u001b[0m \u001b[0mos\u001b[0m\u001b[0;34m.\u001b[0m\u001b[0mpath\u001b[0m\u001b[0;34m.\u001b[0m\u001b[0mjoin\u001b[0m\u001b[0;34m(\u001b[0m\u001b[0moutput_subfolder\u001b[0m\u001b[0;34m,\u001b[0m \u001b[0;34mf'augmented_{i}.jpg'\u001b[0m\u001b[0;34m)\u001b[0m\u001b[0;34m\u001b[0m\u001b[0;34m\u001b[0m\u001b[0m\n\u001b[0;32m---> 33\u001b[0;31m                 \u001b[0mimg\u001b[0m \u001b[0;34m=\u001b[0m \u001b[0marray_to_img\u001b[0m\u001b[0;34m(\u001b[0m\u001b[0mbatch\u001b[0m\u001b[0;34m[\u001b[0m\u001b[0;36m0\u001b[0m\u001b[0;34m]\u001b[0m\u001b[0;34m)\u001b[0m\u001b[0;34m\u001b[0m\u001b[0;34m\u001b[0m\u001b[0m\n\u001b[0m\u001b[1;32m     34\u001b[0m                 \u001b[0mimg\u001b[0m\u001b[0;34m.\u001b[0m\u001b[0msave\u001b[0m\u001b[0;34m(\u001b[0m\u001b[0moutput_path\u001b[0m\u001b[0;34m)\u001b[0m\u001b[0;34m\u001b[0m\u001b[0;34m\u001b[0m\u001b[0m\n\u001b[1;32m     35\u001b[0m                 \u001b[0;32mbreak\u001b[0m\u001b[0;34m\u001b[0m\u001b[0;34m\u001b[0m\u001b[0m\n",
            "\u001b[0;31mNameError\u001b[0m: name 'array_to_img' is not defined"
          ]
        }
      ]
    },
    {
      "cell_type": "code",
      "execution_count": null,
      "metadata": {
        "id": "ArCA_AIE_7zc"
      },
      "outputs": [],
      "source": [
        "base_model = VGG16(weights='imagenet', include_top=False, input_shape=(224,224,3))\n",
        "base_model.trainable = False\n",
        "\n",
        "x = base_model.output\n",
        "x = Flatten()(x)\n",
        "x = Dense(1024, activation='relu')(x)\n",
        "x = Dropout(0.5)(x)\n",
        "predictions = Dense(107, activation='softmax')(x)"
      ]
    },
    {
      "cell_type": "code",
      "execution_count": null,
      "metadata": {
        "id": "uK_5KW0l_7zd"
      },
      "outputs": [],
      "source": [
        "# model = Model(inputs=base_model.input, outputs=predictions)\n",
        "# model.compile(optimizer='adam', loss='categorical_crossentropy', metrics=['accuracy'])"
      ]
    },
    {
      "cell_type": "code",
      "execution_count": null,
      "metadata": {
        "id": "u0G38k40_7zd"
      },
      "outputs": [],
      "source": [
        "# train_datagen = ImageDataGenerator(rescale=1./255)\n",
        "# train_data = train_datagen.flow_from_directory('Yoga82', target_size=(224,224), batch_size=32, class_mode=\"categorical\")"
      ]
    },
    {
      "cell_type": "code",
      "execution_count": null,
      "metadata": {
        "id": "U0DgA_ea_7zd"
      },
      "outputs": [],
      "source": [
        "# history = model.fit_generator(train_data, steps_per_epoch=5994 // 32, epochs=7)"
      ]
    },
    {
      "cell_type": "code",
      "execution_count": null,
      "metadata": {
        "id": "QZhG0yui_7zd"
      },
      "outputs": [],
      "source": [
        "# model.save('transfer.h5')"
      ]
    }
  ],
  "metadata": {
    "kernelspec": {
      "display_name": "pose_env",
      "language": "python",
      "name": "python3"
    },
    "language_info": {
      "codemirror_mode": {
        "name": "ipython",
        "version": 3
      },
      "file_extension": ".py",
      "mimetype": "text/x-python",
      "name": "python",
      "nbconvert_exporter": "python",
      "pygments_lexer": "ipython3",
      "version": "3.10.9"
    },
    "orig_nbformat": 4,
    "vscode": {
      "interpreter": {
        "hash": "89014d6e30cc8b0b13d37c27ef168b5ee9524ffb6e95ca775375c310b4f188ad"
      }
    },
    "colab": {
      "provenance": []
    },
    "accelerator": "GPU",
    "gpuClass": "standard"
  },
  "nbformat": 4,
  "nbformat_minor": 0
}