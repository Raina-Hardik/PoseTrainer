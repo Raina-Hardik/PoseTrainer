{
  "metadata": {
    "kernelspec": {
      "language": "python",
      "display_name": "Python 3",
      "name": "python3"
    },
    "language_info": {
      "pygments_lexer": "ipython3",
      "nbconvert_exporter": "python",
      "version": "3.6.4",
      "file_extension": ".py",
      "codemirror_mode": {
        "name": "ipython",
        "version": 3
      },
      "name": "python",
      "mimetype": "text/x-python"
    },
    "colab": {
      "provenance": []
    }
  },
  "nbformat_minor": 0,
  "nbformat": 4,
  "cells": [
    {
      "cell_type": "code",
      "source": [
        "!lscpu"
      ],
      "metadata": {
        "colab": {
          "base_uri": "https://localhost:8080/"
        },
        "id": "akRAWLSy8ZgR",
        "outputId": "5f2085fd-1e23-4c57-a59d-9d83d3675e60"
      },
      "execution_count": null,
      "outputs": [
        {
          "output_type": "stream",
          "name": "stdout",
          "text": [
            "Architecture:                    x86_64\n",
            "CPU op-mode(s):                  32-bit, 64-bit\n",
            "Byte Order:                      Little Endian\n",
            "Address sizes:                   46 bits physical, 48 bits virtual\n",
            "CPU(s):                          2\n",
            "On-line CPU(s) list:             0,1\n",
            "Thread(s) per core:              2\n",
            "Core(s) per socket:              1\n",
            "Socket(s):                       1\n",
            "NUMA node(s):                    1\n",
            "Vendor ID:                       GenuineIntel\n",
            "CPU family:                      6\n",
            "Model:                           79\n",
            "Model name:                      Intel(R) Xeon(R) CPU @ 2.20GHz\n",
            "Stepping:                        0\n",
            "CPU MHz:                         2199.998\n",
            "BogoMIPS:                        4399.99\n",
            "Hypervisor vendor:               KVM\n",
            "Virtualization type:             full\n",
            "L1d cache:                       32 KiB\n",
            "L1i cache:                       32 KiB\n",
            "L2 cache:                        256 KiB\n",
            "L3 cache:                        55 MiB\n",
            "NUMA node0 CPU(s):               0,1\n",
            "Vulnerability Itlb multihit:     Not affected\n",
            "Vulnerability L1tf:              Mitigation; PTE Inversion\n",
            "Vulnerability Mds:               Vulnerable; SMT Host state unknown\n",
            "Vulnerability Meltdown:          Vulnerable\n",
            "Vulnerability Mmio stale data:   Vulnerable\n",
            "Vulnerability Retbleed:          Vulnerable\n",
            "Vulnerability Spec store bypass: Vulnerable\n",
            "Vulnerability Spectre v1:        Vulnerable: __user pointer sanitization and use\n",
            "                                 rcopy barriers only; no swapgs barriers\n",
            "Vulnerability Spectre v2:        Vulnerable, IBPB: disabled, STIBP: disabled, PB\n",
            "                                 RSB-eIBRS: Not affected\n",
            "Vulnerability Srbds:             Not affected\n",
            "Vulnerability Tsx async abort:   Vulnerable\n",
            "Flags:                           fpu vme de pse tsc msr pae mce cx8 apic sep mtr\n",
            "                                 r pge mca cmov pat pse36 clflush mmx fxsr sse s\n",
            "                                 se2 ss ht syscall nx pdpe1gb rdtscp lm constant\n",
            "                                 _tsc rep_good nopl xtopology nonstop_tsc cpuid \n",
            "                                 tsc_known_freq pni pclmulqdq ssse3 fma cx16 pci\n",
            "                                 d sse4_1 sse4_2 x2apic movbe popcnt aes xsave a\n",
            "                                 vx f16c rdrand hypervisor lahf_lm abm 3dnowpref\n",
            "                                 etch invpcid_single ssbd ibrs ibpb stibp fsgsba\n",
            "                                 se tsc_adjust bmi1 hle avx2 smep bmi2 erms invp\n",
            "                                 cid rtm rdseed adx smap xsaveopt arat md_clear \n",
            "                                 arch_capabilities\n"
          ]
        }
      ]
    },
    {
      "cell_type": "code",
      "source": [
        "from google.colab import drive\n",
        "drive.mount('/content/drive')"
      ],
      "metadata": {
        "colab": {
          "base_uri": "https://localhost:8080/"
        },
        "id": "XiIB_J69mTZM",
        "outputId": "b24b0bfb-308a-44eb-dc81-12b9365d1a7e"
      },
      "execution_count": null,
      "outputs": [
        {
          "output_type": "stream",
          "name": "stdout",
          "text": [
            "Mounted at /content/drive\n"
          ]
        }
      ]
    },
    {
      "cell_type": "code",
      "source": [
        "!rm -r sample_data\n",
        "\n",
        "!cp \"/content/drive/MyDrive/archive.zip\" \"/content/\" >null\n",
        "!unzip -n \"/content/archive.zip\" -d \"/content/\" >null\n",
        "\n",
        "!rm null"
      ],
      "metadata": {
        "id": "AwcaBGUZmxC_"
      },
      "execution_count": null,
      "outputs": []
    },
    {
      "cell_type": "code",
      "source": [
        "import matplotlib.pyplot as plt\n",
        "import tensorflow as tf\n",
        "from keras.layers import LeakyReLU, Flatten, Dense\n",
        "from tensorflow.keras.preprocessing.image import ImageDataGenerator\n",
        "from keras.layers import Dense, Flatten\n",
        "from tensorflow.keras.applications import VGG19\n",
        "from tensorflow.keras.optimizers import Adam"
      ],
      "metadata": {
        "_uuid": "3cc5a84f-a617-4b38-b76b-6a5535d88472",
        "_cell_guid": "c7a4d8b7-a578-4c81-b04a-81e7835719fa",
        "jupyter": {
          "outputs_hidden": false
        },
        "execution": {
          "iopub.status.busy": "2021-06-02T18:35:10.565301Z",
          "iopub.execute_input": "2021-06-02T18:35:10.565677Z",
          "iopub.status.idle": "2021-06-02T18:35:16.378403Z",
          "shell.execute_reply.started": "2021-06-02T18:35:10.565597Z",
          "shell.execute_reply": "2021-06-02T18:35:16.377462Z"
        },
        "trusted": true,
        "id": "DV42AIBGlhoc"
      },
      "execution_count": null,
      "outputs": []
    },
    {
      "cell_type": "code",
      "source": [
        "from PIL import ImageFile\n",
        "ImageFile.LOAD_TRUNCATED_IMAGES = True"
      ],
      "metadata": {
        "execution": {
          "iopub.status.busy": "2021-06-02T18:35:20.394889Z",
          "iopub.execute_input": "2021-06-02T18:35:20.395233Z",
          "iopub.status.idle": "2021-06-02T18:35:20.401548Z",
          "shell.execute_reply.started": "2021-06-02T18:35:20.395205Z",
          "shell.execute_reply": "2021-06-02T18:35:20.400677Z"
        },
        "trusted": true,
        "id": "Dqd8JB5ylhoe"
      },
      "execution_count": null,
      "outputs": []
    },
    {
      "cell_type": "code",
      "source": [
        "train_dir = '/content/DATASET/TRAIN'\n",
        "test_dir = '/content/DATASET/TEST'"
      ],
      "metadata": {
        "execution": {
          "iopub.status.busy": "2021-06-02T18:35:21.541651Z",
          "iopub.execute_input": "2021-06-02T18:35:21.541985Z",
          "iopub.status.idle": "2021-06-02T18:35:21.545805Z",
          "shell.execute_reply.started": "2021-06-02T18:35:21.541933Z",
          "shell.execute_reply": "2021-06-02T18:35:21.544787Z"
        },
        "trusted": true,
        "id": "BeCA9ss1lhof"
      },
      "execution_count": null,
      "outputs": []
    },
    {
      "cell_type": "code",
      "source": [
        "train_datagen = ImageDataGenerator(width_shift_range = 0.1,\n",
        "                                  horizontal_flip = True,\n",
        "                                  rescale = 1./255,\n",
        "                                  validation_split = 0.2)\n",
        "test_datagen = ImageDataGenerator(rescale =1./255,\n",
        "                                 validation_split = 0.2)"
      ],
      "metadata": {
        "execution": {
          "iopub.status.busy": "2021-06-02T18:35:22.660012Z",
          "iopub.execute_input": "2021-06-02T18:35:22.660378Z",
          "iopub.status.idle": "2021-06-02T18:35:22.665331Z",
          "shell.execute_reply.started": "2021-06-02T18:35:22.660342Z",
          "shell.execute_reply": "2021-06-02T18:35:22.66431Z"
        },
        "trusted": true,
        "id": "sMD3iPnVlhof"
      },
      "execution_count": null,
      "outputs": []
    },
    {
      "cell_type": "code",
      "source": [
        "train_generator = train_datagen.flow_from_directory(directory = train_dir,\n",
        "                                                   target_size = (224,224),\n",
        "                                                   color_mode = 'rgb',\n",
        "                                                   class_mode = 'categorical',\n",
        "                                                    batch_size = 16,\n",
        "                                                   subset = 'training')\n",
        "\n",
        "validation_generator = test_datagen.flow_from_directory(directory = test_dir,\n",
        "                                                       target_size = (224,224),\n",
        "                                                       color_mode = 'rgb',\n",
        "                                                       class_mode = 'categorical',\n",
        "                                                       batch_size = 16,\n",
        "                                                       subset = 'validation')\n",
        "\n",
        "# Create a TensorBoard callback\n",
        "tensorboard_callback = tf.keras.callbacks.TensorBoard(log_dir=\"./logs\")\n"
      ],
      "metadata": {
        "execution": {
          "iopub.status.busy": "2021-06-02T18:35:24.10865Z",
          "iopub.execute_input": "2021-06-02T18:35:24.109013Z",
          "iopub.status.idle": "2021-06-02T18:35:24.533086Z",
          "shell.execute_reply.started": "2021-06-02T18:35:24.10898Z",
          "shell.execute_reply": "2021-06-02T18:35:24.532363Z"
        },
        "trusted": true,
        "colab": {
          "base_uri": "https://localhost:8080/"
        },
        "id": "7WehqBtQlhog",
        "outputId": "d845e86d-50e3-4435-d954-29fbeae42690"
      },
      "execution_count": null,
      "outputs": [
        {
          "output_type": "stream",
          "name": "stdout",
          "text": [
            "Found 866 images belonging to 5 classes.\n",
            "Found 92 images belonging to 5 classes.\n"
          ]
        }
      ]
    },
    {
      "cell_type": "code",
      "source": [
        "model = tf.keras.Sequential()\n",
        "model.add(VGG19(include_top = False,weights = 'imagenet',input_shape= (224,224,3)))\n",
        "model.add(Flatten())\n",
        "model.add(LeakyReLU(alpha=0.1))\n",
        "model.add(Dense(5, activation='softmax'))\n",
        "\n",
        "model.summary()\n",
        "\n",
        "optimizer = Adam(learning_rate = 0.0001)\n",
        "model.compile(loss = \"categorical_crossentropy\",optimizer = optimizer,metrics = ['accuracy'])\n",
        "epochs = 25\n",
        "batch_size = 16\n",
        "\n",
        "history = model.fit(train_generator, epochs = epochs,validation_data = validation_generator, callbacks=[tensorboard_callback])"
      ],
      "metadata": {
        "colab": {
          "base_uri": "https://localhost:8080/"
        },
        "id": "Ww07pEiOlhoi",
        "outputId": "df91e747-b527-429d-8225-4515d60705fc"
      },
      "execution_count": null,
      "outputs": [
        {
          "output_type": "stream",
          "name": "stdout",
          "text": [
            "Downloading data from https://storage.googleapis.com/tensorflow/keras-applications/vgg19/vgg19_weights_tf_dim_ordering_tf_kernels_notop.h5\n",
            "80134624/80134624 [==============================] - 0s 0us/step\n",
            "Model: \"sequential\"\n",
            "_________________________________________________________________\n",
            " Layer (type)                Output Shape              Param #   \n",
            "=================================================================\n",
            " vgg19 (Functional)          (None, 7, 7, 512)         20024384  \n",
            "                                                                 \n",
            " flatten (Flatten)           (None, 25088)             0         \n",
            "                                                                 \n",
            " leaky_re_lu (LeakyReLU)     (None, 25088)             0         \n",
            "                                                                 \n",
            " dense (Dense)               (None, 5)                 125445    \n",
            "                                                                 \n",
            "=================================================================\n",
            "Total params: 20,149,829\n",
            "Trainable params: 20,149,829\n",
            "Non-trainable params: 0\n",
            "_________________________________________________________________\n",
            "Epoch 1/25\n",
            " 4/55 [=>............................] - ETA: 40s - loss: 1.6982 - accuracy: 0.2656"
          ]
        },
        {
          "output_type": "stream",
          "name": "stderr",
          "text": [
            "/usr/local/lib/python3.10/dist-packages/PIL/Image.py:975: UserWarning: Palette images with Transparency expressed in bytes should be converted to RGBA images\n",
            "  warnings.warn(\n"
          ]
        },
        {
          "output_type": "stream",
          "name": "stdout",
          "text": [
            "55/55 [==============================] - 65s 719ms/step - loss: 1.3728 - accuracy: 0.4099 - val_loss: 0.6090 - val_accuracy: 0.7717\n",
            "Epoch 2/25\n",
            "55/55 [==============================] - 32s 578ms/step - loss: 0.8943 - accuracy: 0.6732 - val_loss: 0.4173 - val_accuracy: 0.8587\n",
            "Epoch 3/25\n",
            "55/55 [==============================] - 33s 593ms/step - loss: 0.6694 - accuracy: 0.7818 - val_loss: 0.1353 - val_accuracy: 0.9783\n",
            "Epoch 4/25\n",
            "55/55 [==============================] - 31s 562ms/step - loss: 0.4467 - accuracy: 0.8545 - val_loss: 0.2269 - val_accuracy: 0.9348\n",
            "Epoch 5/25\n",
            "55/55 [==============================] - 31s 567ms/step - loss: 0.4580 - accuracy: 0.8418 - val_loss: 0.0982 - val_accuracy: 0.9783\n",
            "Epoch 6/25\n",
            "55/55 [==============================] - 32s 573ms/step - loss: 0.3432 - accuracy: 0.9018 - val_loss: 0.0402 - val_accuracy: 1.0000\n",
            "Epoch 7/25\n",
            "55/55 [==============================] - 33s 602ms/step - loss: 0.2868 - accuracy: 0.9018 - val_loss: 0.1247 - val_accuracy: 0.9565\n",
            "Epoch 8/25\n",
            "55/55 [==============================] - 33s 599ms/step - loss: 0.2875 - accuracy: 0.9169 - val_loss: 0.0271 - val_accuracy: 1.0000\n",
            "Epoch 9/25\n",
            "55/55 [==============================] - 31s 567ms/step - loss: 0.2100 - accuracy: 0.9400 - val_loss: 0.0544 - val_accuracy: 0.9891\n",
            "Epoch 10/25\n",
            "55/55 [==============================] - 31s 561ms/step - loss: 0.1662 - accuracy: 0.9423 - val_loss: 0.0418 - val_accuracy: 0.9674\n",
            "Epoch 11/25\n",
            "55/55 [==============================] - 32s 580ms/step - loss: 0.3494 - accuracy: 0.8811 - val_loss: 0.0263 - val_accuracy: 0.9891\n",
            "Epoch 12/25\n",
            "55/55 [==============================] - 31s 555ms/step - loss: 0.2436 - accuracy: 0.9226 - val_loss: 0.1186 - val_accuracy: 0.9565\n",
            "Epoch 13/25\n",
            "55/55 [==============================] - 31s 560ms/step - loss: 0.1821 - accuracy: 0.9376 - val_loss: 0.0511 - val_accuracy: 0.9891\n",
            "Epoch 14/25\n",
            "55/55 [==============================] - 31s 564ms/step - loss: 0.1149 - accuracy: 0.9711 - val_loss: 0.0302 - val_accuracy: 0.9891\n",
            "Epoch 15/25\n",
            "55/55 [==============================] - 32s 575ms/step - loss: 0.1174 - accuracy: 0.9584 - val_loss: 0.0827 - val_accuracy: 0.9674\n",
            "Epoch 16/25\n",
            "55/55 [==============================] - 32s 582ms/step - loss: 0.1115 - accuracy: 0.9665 - val_loss: 0.0375 - val_accuracy: 0.9891\n",
            "Epoch 17/25\n",
            "55/55 [==============================] - 32s 580ms/step - loss: 0.0928 - accuracy: 0.9734 - val_loss: 0.0642 - val_accuracy: 0.9674\n",
            "Epoch 18/25\n",
            "55/55 [==============================] - 30s 554ms/step - loss: 0.1032 - accuracy: 0.9723 - val_loss: 0.0126 - val_accuracy: 1.0000\n",
            "Epoch 19/25\n",
            "55/55 [==============================] - 31s 563ms/step - loss: 0.1007 - accuracy: 0.9665 - val_loss: 0.0628 - val_accuracy: 0.9783\n",
            "Epoch 20/25\n",
            "55/55 [==============================] - 33s 599ms/step - loss: 0.1194 - accuracy: 0.9596 - val_loss: 0.0090 - val_accuracy: 1.0000\n",
            "Epoch 21/25\n",
            "55/55 [==============================] - 31s 562ms/step - loss: 0.0494 - accuracy: 0.9781 - val_loss: 0.0180 - val_accuracy: 0.9891\n",
            "Epoch 22/25\n",
            "55/55 [==============================] - 31s 551ms/step - loss: 0.0721 - accuracy: 0.9815 - val_loss: 0.0030 - val_accuracy: 1.0000\n",
            "Epoch 23/25\n",
            "55/55 [==============================] - 31s 553ms/step - loss: 0.0773 - accuracy: 0.9769 - val_loss: 0.0161 - val_accuracy: 0.9891\n",
            "Epoch 24/25\n",
            "55/55 [==============================] - 33s 597ms/step - loss: 0.0528 - accuracy: 0.9896 - val_loss: 0.0050 - val_accuracy: 1.0000\n",
            "Epoch 25/25\n",
            "55/55 [==============================] - 30s 552ms/step - loss: 0.0567 - accuracy: 0.9850 - val_loss: 0.0136 - val_accuracy: 1.0000\n"
          ]
        }
      ]
    },
    {
      "cell_type": "code",
      "source": [
        "%load_ext tensorboard\n",
        "%tensorboard --logdir logs/"
      ],
      "metadata": {
        "id": "9zVVx3skqJNv"
      },
      "execution_count": null,
      "outputs": []
    },
    {
      "cell_type": "code",
      "source": [
        "fig , ax = plt.subplots(1,2)\n",
        "train_acc = history.history['accuracy']\n",
        "train_loss = history.history['loss']\n",
        "fig.set_size_inches(12,4)\n",
        "\n",
        "ax[0].plot(history.history['accuracy'])\n",
        "ax[0].plot(history.history['val_accuracy'])\n",
        "ax[0].set_title('Training Accuracy vs Validation Accuracy')\n",
        "ax[0].set_ylabel('Accuracy')\n",
        "ax[0].set_xlabel('Epoch')\n",
        "ax[0].legend(['Train', 'Validation'], loc='upper left')\n",
        "\n",
        "ax[1].plot(history.history['loss'])\n",
        "ax[1].plot(history.history['val_loss'])\n",
        "ax[1].set_title('Training Loss vs Validation Loss')\n",
        "ax[1].set_ylabel('Loss')\n",
        "ax[1].set_xlabel('Epoch')\n",
        "ax[1].legend(['Train', 'Validation'], loc='upper left')\n",
        "\n",
        "plt.show()"
      ],
      "metadata": {
        "colab": {
          "base_uri": "https://localhost:8080/",
          "height": 410
        },
        "id": "g_z-8WyM43l3",
        "outputId": "b34e57c1-4943-43bc-995b-37dacd5e0355"
      },
      "execution_count": null,
      "outputs": [
        {
          "output_type": "display_data",
          "data": {
            "text/plain": [
              "<Figure size 1200x400 with 2 Axes>"
            ],
            "image/png": "[encoded data removed]"
          },
          "metadata": {}
        }
      ]
    },
    {
      "cell_type": "code",
      "source": [
        "train_loss, train_acc = model.evaluate(train_generator)\n",
        "test_loss, test_acc   = model.evaluate(validation_generator)\n",
        "print(\"final train accuracy = {:.2f} , validation accuracy = {:.2f}\".format(train_acc*100, test_acc*100))"
      ],
      "metadata": {
        "colab": {
          "base_uri": "https://localhost:8080/"
        },
        "id": "yMhWrkN35lWJ",
        "outputId": "c2a0d90d-1e16-40c0-fdfd-919add11c7a1"
      },
      "execution_count": null,
      "outputs": [
        {
          "output_type": "stream",
          "name": "stdout",
          "text": [
            " 6/55 [==>...........................] - ETA: 19s - loss: 0.0311 - accuracy: 0.9896"
          ]
        },
        {
          "output_type": "stream",
          "name": "stderr",
          "text": [
            "/usr/local/lib/python3.10/dist-packages/PIL/Image.py:975: UserWarning: Palette images with Transparency expressed in bytes should be converted to RGBA images\n",
            "  warnings.warn(\n"
          ]
        },
        {
          "output_type": "stream",
          "name": "stdout",
          "text": [
            "55/55 [==============================] - 24s 445ms/step - loss: 0.0349 - accuracy: 0.9896\n",
            "6/6 [==============================] - 4s 695ms/step - loss: 0.0136 - accuracy: 1.0000\n",
            "final train accuracy = 98.96 , validation accuracy = 100.00\n"
          ]
        }
      ]
    },
    {
      "cell_type": "code",
      "source": [
        "model.save('HumanPoseEstimation.h5')"
      ],
      "metadata": {
        "id": "IhO2qwzJ5CmH"
      },
      "execution_count": null,
      "outputs": []
    },
    {
      "cell_type": "code",
      "source": [
        "from PIL import Image\n",
        "import numpy as np\n",
        "\n",
        "# Load the image from file\n",
        "image = Image.open('/content/DATASET/TEST/goddess/00000003.jpg')\n",
        "\n",
        "# Resize the image to the target size of (224,224)\n",
        "image_resized = image.resize((224, 224))\n",
        "\n",
        "# Convert the resized image to an array\n",
        "image_array = np.array(image_resized)\n",
        "\n",
        "# Reshape the array to have a batch size of 1\n",
        "image_array = np.expand_dims(image_array, axis=0)\n",
        "\n",
        "# Apply any necessary data preprocessing steps\n",
        "image_array = image_array / 255.0  # normalize pixel values to range [0, 1]\n",
        "\n",
        "# Pass the preprocessed array to the model to obtain predicted probabilities\n",
        "predicted_probabilities = model.predict(image_array)\n",
        "\n",
        "# Convert the predicted probabilities to a class label\n",
        "predicted_class = np.argmax(predicted_probabilities)\n",
        "\n",
        "# Print the predicted class label\n",
        "print(\"Predicted class:\", predicted_class)\n"
      ],
      "metadata": {
        "colab": {
          "base_uri": "https://localhost:8080/"
        },
        "id": "BSlayFad55nQ",
        "outputId": "f8e99bde-a4cb-43ff-c0cb-ca4fd97c0677"
      },
      "execution_count": null,
      "outputs": [
        {
          "output_type": "stream",
          "name": "stdout",
          "text": [
            "1/1 [==============================] - 0s 23ms/step\n",
            "Predicted class: 1\n"
          ]
        }
      ]
    },
    {
      "cell_type": "code",
      "source": [
        "import tensorflow as tf\n",
        "import numpy as np\n",
        "from sklearn.metrics import precision_score, accuracy_score, recall_score, f1_score\n",
        "\n",
        "# Load test dataset\n",
        "test_dataset = tf.keras.preprocessing.image_dataset_from_directory(\n",
        "    '/content/DATASET/TEST/',\n",
        "    image_size=(224, 224),\n",
        "    batch_size=batch_size, shuffle=False)\n",
        "\n",
        "# Make predictions on test dataset\n",
        "y_pred = model.predict(test_dataset)\n",
        "y_pred = np.argmax(y_pred, axis=1)\n",
        "\n",
        "# Get true labels for test dataset\n",
        "y_true = np.concatenate([y for x, y in test_dataset], axis=0)"
      ],
      "metadata": {
        "colab": {
          "base_uri": "https://localhost:8080/"
        },
        "id": "vaay96MvrNBP",
        "outputId": "4bf6deca-7bf4-45f3-dbb5-ac42f5b135cd"
      },
      "execution_count": null,
      "outputs": [
        {
          "output_type": "stream",
          "name": "stdout",
          "text": [
            "Found 470 files belonging to 5 classes.\n",
            "15/15 [==============================] - 9s 587ms/step\n"
          ]
        }
      ]
    },
    {
      "cell_type": "code",
      "source": [
        "# Calculate precision score\n",
        "precision = precision_score(y_true, y_pred, average='weighted')\n",
        "print('Precision score:', precision)\n",
        "\n",
        "accuracy = accuracy_score(y_true, y_pred)\n",
        "print('Accuracy score:', accuracy)\n",
        "\n",
        "recall = recall_score(y_true, y_pred, average='weighted')\n",
        "print('Recall score:', recall)\n",
        "\n",
        "f1 = f1_score(y_true, y_pred, average='weighted')\n",
        "print('F1 score:', f1)"
      ],
      "metadata": {
        "colab": {
          "base_uri": "https://localhost:8080/"
        },
        "id": "SUCtk5SyIRAc",
        "outputId": "85441392-dfe0-4e8a-d932-3b9fe59f1831"
      },
      "execution_count": null,
      "outputs": [
        {
          "output_type": "stream",
          "name": "stdout",
          "text": [
            "Precision score: 0.9643533335421648\n",
            "Accuracy score: 0.9638297872340426\n",
            "Recall score: 0.9638297872340426\n",
            "F1 score: 0.9639796809995048\n"
          ]
        }
      ]
    },
    {
      "cell_type": "code",
      "source": [
        "import matplotlib.pyplot as plt\n",
        "from sklearn.metrics import confusion_matrix\n",
        "\n",
        "# Calculate confusion matrix\n",
        "cm = confusion_matrix(y_true, y_pred)\n",
        "class_names = ['0', '1', '2', '3', '4']\n",
        "# Plot confusion matrix as heatmap\n",
        "fig, ax = plt.subplots(figsize=(8, 8))\n",
        "im = ax.imshow(cm, interpolation='nearest', cmap=plt.cm.Reds)\n",
        "ax.set(xticks=np.arange(cm.shape[1]),\n",
        "       yticks=np.arange(cm.shape[0]),\n",
        "       xticklabels=class_names, yticklabels=class_names,\n",
        "       ylabel='True label',\n",
        "       xlabel='Predicted label')\n",
        "plt.setp(ax.get_xticklabels(), rotation=45, ha=\"right\",\n",
        "         rotation_mode=\"anchor\")\n",
        "for i in range(cm.shape[0]):\n",
        "    for j in range(cm.shape[1]):\n",
        "        ax.text(j, i, format(cm[i, j], 'd'),\n",
        "                ha=\"center\", va=\"center\",\n",
        "                color=\"white\" if cm[i, j] > cm.max() / 2. else \"black\")\n",
        "fig.tight_layout()\n",
        "plt.show()\n"
      ],
      "metadata": {
        "colab": {
          "base_uri": "https://localhost:8080/",
          "height": 807
        },
        "id": "qUbglrQpISiE",
        "outputId": "089d3786-cc9c-49a3-fc52-fabef8673ef3"
      },
      "execution_count": null,
      "outputs": [
        {
          "output_type": "display_data",
          "data": {
            "text/plain": [
              "<Figure size 800x800 with 1 Axes>"
            ],
            "image/png": "[encoded data removed]"
          },
          "metadata": {}
        }
      ]
    }
  ]
}